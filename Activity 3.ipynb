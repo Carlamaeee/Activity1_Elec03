{
 "cells": [
  {
   "cell_type": "markdown",
   "id": "0cb25304-95b7-4fb9-bc9d-314d9c4fcb19",
   "metadata": {},
   "source": [
    "<h1>DATA ANALYTICS OF UK ROAD ACCIDENT</h1>"
   ]
  },
  {
   "cell_type": "markdown",
   "id": "f1a64595-cb91-4c59-8ca1-ded70b93c1a7",
   "metadata": {},
   "source": [
    "<h3>Analysis: Carla Mae Biñas</h3>"
   ]
  },
  {
   "cell_type": "code",
   "execution_count": 1,
   "id": "fc3cb039-f88e-4097-92fa-539721fcb650",
   "metadata": {},
   "outputs": [],
   "source": [
    "import numpy as np \n",
    "import pandas as pd\n",
    "import warnings\n",
    "warnings.filterwarnings('ignore')\n",
    "from scipy.stats import f_oneway"
   ]
  },
  {
   "cell_type": "markdown",
   "id": "21555aea-7ee4-4a8a-bb8b-3892366ec7aa",
   "metadata": {
    "jp-MarkdownHeadingCollapsed": true
   },
   "source": [
    "<h3>Importing Dataset as DataFrame</h3>"
   ]
  },
  {
   "cell_type": "code",
   "execution_count": 2,
   "id": "b06f3a80-5a13-49ec-9540-9875a1de5643",
   "metadata": {},
   "outputs": [],
   "source": [
    "accident= pd.read_csv('datasets\\\\uk_road_accident.csv')"
   ]
  },
  {
   "cell_type": "code",
   "execution_count": 3,
   "id": "7ebdedb6-1fb2-47dc-92c5-30bd0e4d8100",
   "metadata": {},
   "outputs": [
    {
     "data": {
      "text/html": [
       "<div>\n",
       "<style scoped>\n",
       "    .dataframe tbody tr th:only-of-type {\n",
       "        vertical-align: middle;\n",
       "    }\n",
       "\n",
       "    .dataframe tbody tr th {\n",
       "        vertical-align: top;\n",
       "    }\n",
       "\n",
       "    .dataframe thead th {\n",
       "        text-align: right;\n",
       "    }\n",
       "</style>\n",
       "<table border=\"1\" class=\"dataframe\">\n",
       "  <thead>\n",
       "    <tr style=\"text-align: right;\">\n",
       "      <th></th>\n",
       "      <th>Index</th>\n",
       "      <th>Accident_Severity</th>\n",
       "      <th>Accident Date</th>\n",
       "      <th>Latitude</th>\n",
       "      <th>Light_Conditions</th>\n",
       "      <th>District Area</th>\n",
       "      <th>Longitude</th>\n",
       "      <th>Number_of_Casualties</th>\n",
       "      <th>Number_of_Vehicles</th>\n",
       "      <th>Road_Surface_Conditions</th>\n",
       "      <th>Road_Type</th>\n",
       "      <th>Urban_or_Rural_Area</th>\n",
       "      <th>Weather_Conditions</th>\n",
       "      <th>Vehicle_Type</th>\n",
       "    </tr>\n",
       "  </thead>\n",
       "  <tbody>\n",
       "    <tr>\n",
       "      <th>0</th>\n",
       "      <td>200701BS64157</td>\n",
       "      <td>Serious</td>\n",
       "      <td>5/6/2019</td>\n",
       "      <td>51.506187</td>\n",
       "      <td>Darkness - lights lit</td>\n",
       "      <td>Kensington and Chelsea</td>\n",
       "      <td>-0.209082</td>\n",
       "      <td>1</td>\n",
       "      <td>2</td>\n",
       "      <td>Dry</td>\n",
       "      <td>Single carriageway</td>\n",
       "      <td>Urban</td>\n",
       "      <td>Fine no high winds</td>\n",
       "      <td>Car</td>\n",
       "    </tr>\n",
       "    <tr>\n",
       "      <th>1</th>\n",
       "      <td>200701BS65737</td>\n",
       "      <td>Serious</td>\n",
       "      <td>2/7/2019</td>\n",
       "      <td>51.495029</td>\n",
       "      <td>Daylight</td>\n",
       "      <td>Kensington and Chelsea</td>\n",
       "      <td>-0.173647</td>\n",
       "      <td>1</td>\n",
       "      <td>2</td>\n",
       "      <td>Wet or damp</td>\n",
       "      <td>Single carriageway</td>\n",
       "      <td>Urban</td>\n",
       "      <td>Raining no high winds</td>\n",
       "      <td>Car</td>\n",
       "    </tr>\n",
       "    <tr>\n",
       "      <th>2</th>\n",
       "      <td>200701BS66127</td>\n",
       "      <td>Serious</td>\n",
       "      <td>26-08-2019</td>\n",
       "      <td>51.517715</td>\n",
       "      <td>Darkness - lighting unknown</td>\n",
       "      <td>Kensington and Chelsea</td>\n",
       "      <td>-0.210215</td>\n",
       "      <td>1</td>\n",
       "      <td>3</td>\n",
       "      <td>Dry</td>\n",
       "      <td>NaN</td>\n",
       "      <td>Urban</td>\n",
       "      <td>NaN</td>\n",
       "      <td>Taxi/Private hire car</td>\n",
       "    </tr>\n",
       "    <tr>\n",
       "      <th>3</th>\n",
       "      <td>200701BS66128</td>\n",
       "      <td>Serious</td>\n",
       "      <td>16-08-2019</td>\n",
       "      <td>51.495478</td>\n",
       "      <td>Daylight</td>\n",
       "      <td>Kensington and Chelsea</td>\n",
       "      <td>-0.202731</td>\n",
       "      <td>1</td>\n",
       "      <td>4</td>\n",
       "      <td>Dry</td>\n",
       "      <td>Single carriageway</td>\n",
       "      <td>Urban</td>\n",
       "      <td>Fine no high winds</td>\n",
       "      <td>Bus or coach (17 or more pass seats)</td>\n",
       "    </tr>\n",
       "    <tr>\n",
       "      <th>4</th>\n",
       "      <td>200701BS66837</td>\n",
       "      <td>Slight</td>\n",
       "      <td>3/9/2019</td>\n",
       "      <td>51.488576</td>\n",
       "      <td>Darkness - lights lit</td>\n",
       "      <td>Kensington and Chelsea</td>\n",
       "      <td>-0.192487</td>\n",
       "      <td>1</td>\n",
       "      <td>2</td>\n",
       "      <td>Dry</td>\n",
       "      <td>NaN</td>\n",
       "      <td>Urban</td>\n",
       "      <td>NaN</td>\n",
       "      <td>Other vehicle</td>\n",
       "    </tr>\n",
       "    <tr>\n",
       "      <th>...</th>\n",
       "      <td>...</td>\n",
       "      <td>...</td>\n",
       "      <td>...</td>\n",
       "      <td>...</td>\n",
       "      <td>...</td>\n",
       "      <td>...</td>\n",
       "      <td>...</td>\n",
       "      <td>...</td>\n",
       "      <td>...</td>\n",
       "      <td>...</td>\n",
       "      <td>...</td>\n",
       "      <td>...</td>\n",
       "      <td>...</td>\n",
       "      <td>...</td>\n",
       "    </tr>\n",
       "    <tr>\n",
       "      <th>660674</th>\n",
       "      <td>201091NM01760</td>\n",
       "      <td>Slight</td>\n",
       "      <td>18-02-2022</td>\n",
       "      <td>57.374005</td>\n",
       "      <td>Daylight</td>\n",
       "      <td>Highland</td>\n",
       "      <td>-3.467828</td>\n",
       "      <td>2</td>\n",
       "      <td>1</td>\n",
       "      <td>Dry</td>\n",
       "      <td>Single carriageway</td>\n",
       "      <td>Rural</td>\n",
       "      <td>Fine no high winds</td>\n",
       "      <td>Car</td>\n",
       "    </tr>\n",
       "    <tr>\n",
       "      <th>660675</th>\n",
       "      <td>201091NM01881</td>\n",
       "      <td>Slight</td>\n",
       "      <td>21-02-2022</td>\n",
       "      <td>57.232273</td>\n",
       "      <td>Darkness - no lighting</td>\n",
       "      <td>Highland</td>\n",
       "      <td>-3.809281</td>\n",
       "      <td>1</td>\n",
       "      <td>1</td>\n",
       "      <td>Frost or ice</td>\n",
       "      <td>Single carriageway</td>\n",
       "      <td>Rural</td>\n",
       "      <td>Fine no high winds</td>\n",
       "      <td>Car</td>\n",
       "    </tr>\n",
       "    <tr>\n",
       "      <th>660676</th>\n",
       "      <td>201091NM01935</td>\n",
       "      <td>Slight</td>\n",
       "      <td>23-02-2022</td>\n",
       "      <td>57.585044</td>\n",
       "      <td>Daylight</td>\n",
       "      <td>Highland</td>\n",
       "      <td>-3.862727</td>\n",
       "      <td>1</td>\n",
       "      <td>3</td>\n",
       "      <td>Frost or ice</td>\n",
       "      <td>Single carriageway</td>\n",
       "      <td>Rural</td>\n",
       "      <td>Fine no high winds</td>\n",
       "      <td>Car</td>\n",
       "    </tr>\n",
       "    <tr>\n",
       "      <th>660677</th>\n",
       "      <td>201091NM01964</td>\n",
       "      <td>Serious</td>\n",
       "      <td>23-02-2022</td>\n",
       "      <td>57.214898</td>\n",
       "      <td>Darkness - no lighting</td>\n",
       "      <td>Highland</td>\n",
       "      <td>-3.823997</td>\n",
       "      <td>1</td>\n",
       "      <td>2</td>\n",
       "      <td>Wet or damp</td>\n",
       "      <td>Single carriageway</td>\n",
       "      <td>Rural</td>\n",
       "      <td>Fine no high winds</td>\n",
       "      <td>Motorcycle over 500cc</td>\n",
       "    </tr>\n",
       "    <tr>\n",
       "      <th>660678</th>\n",
       "      <td>201091NM02142</td>\n",
       "      <td>Serious</td>\n",
       "      <td>28-02-2022</td>\n",
       "      <td>57.575210</td>\n",
       "      <td>Daylight</td>\n",
       "      <td>Highland</td>\n",
       "      <td>-3.895673</td>\n",
       "      <td>1</td>\n",
       "      <td>1</td>\n",
       "      <td>Wet or damp</td>\n",
       "      <td>Dual carriageway</td>\n",
       "      <td>Rural</td>\n",
       "      <td>Snowing no high winds</td>\n",
       "      <td>Car</td>\n",
       "    </tr>\n",
       "  </tbody>\n",
       "</table>\n",
       "<p>660679 rows × 14 columns</p>\n",
       "</div>"
      ],
      "text/plain": [
       "                Index Accident_Severity Accident Date   Latitude  \\\n",
       "0       200701BS64157           Serious      5/6/2019  51.506187   \n",
       "1       200701BS65737           Serious      2/7/2019  51.495029   \n",
       "2       200701BS66127           Serious    26-08-2019  51.517715   \n",
       "3       200701BS66128           Serious    16-08-2019  51.495478   \n",
       "4       200701BS66837            Slight      3/9/2019  51.488576   \n",
       "...               ...               ...           ...        ...   \n",
       "660674  201091NM01760            Slight    18-02-2022  57.374005   \n",
       "660675  201091NM01881            Slight    21-02-2022  57.232273   \n",
       "660676  201091NM01935            Slight    23-02-2022  57.585044   \n",
       "660677  201091NM01964           Serious    23-02-2022  57.214898   \n",
       "660678  201091NM02142           Serious    28-02-2022  57.575210   \n",
       "\n",
       "                   Light_Conditions           District Area  Longitude  \\\n",
       "0             Darkness - lights lit  Kensington and Chelsea  -0.209082   \n",
       "1                          Daylight  Kensington and Chelsea  -0.173647   \n",
       "2       Darkness - lighting unknown  Kensington and Chelsea  -0.210215   \n",
       "3                          Daylight  Kensington and Chelsea  -0.202731   \n",
       "4             Darkness - lights lit  Kensington and Chelsea  -0.192487   \n",
       "...                             ...                     ...        ...   \n",
       "660674                     Daylight                Highland  -3.467828   \n",
       "660675       Darkness - no lighting                Highland  -3.809281   \n",
       "660676                     Daylight                Highland  -3.862727   \n",
       "660677       Darkness - no lighting                Highland  -3.823997   \n",
       "660678                     Daylight                Highland  -3.895673   \n",
       "\n",
       "        Number_of_Casualties  Number_of_Vehicles Road_Surface_Conditions  \\\n",
       "0                          1                   2                     Dry   \n",
       "1                          1                   2             Wet or damp   \n",
       "2                          1                   3                     Dry   \n",
       "3                          1                   4                     Dry   \n",
       "4                          1                   2                     Dry   \n",
       "...                      ...                 ...                     ...   \n",
       "660674                     2                   1                     Dry   \n",
       "660675                     1                   1            Frost or ice   \n",
       "660676                     1                   3            Frost or ice   \n",
       "660677                     1                   2             Wet or damp   \n",
       "660678                     1                   1             Wet or damp   \n",
       "\n",
       "                 Road_Type Urban_or_Rural_Area     Weather_Conditions  \\\n",
       "0       Single carriageway               Urban     Fine no high winds   \n",
       "1       Single carriageway               Urban  Raining no high winds   \n",
       "2                      NaN               Urban                    NaN   \n",
       "3       Single carriageway               Urban     Fine no high winds   \n",
       "4                      NaN               Urban                    NaN   \n",
       "...                    ...                 ...                    ...   \n",
       "660674  Single carriageway               Rural     Fine no high winds   \n",
       "660675  Single carriageway               Rural     Fine no high winds   \n",
       "660676  Single carriageway               Rural     Fine no high winds   \n",
       "660677  Single carriageway               Rural     Fine no high winds   \n",
       "660678    Dual carriageway               Rural  Snowing no high winds   \n",
       "\n",
       "                                Vehicle_Type  \n",
       "0                                        Car  \n",
       "1                                        Car  \n",
       "2                      Taxi/Private hire car  \n",
       "3       Bus or coach (17 or more pass seats)  \n",
       "4                              Other vehicle  \n",
       "...                                      ...  \n",
       "660674                                   Car  \n",
       "660675                                   Car  \n",
       "660676                                   Car  \n",
       "660677                 Motorcycle over 500cc  \n",
       "660678                                   Car  \n",
       "\n",
       "[660679 rows x 14 columns]"
      ]
     },
     "execution_count": 3,
     "metadata": {},
     "output_type": "execute_result"
    }
   ],
   "source": [
    "accident"
   ]
  },
  {
   "cell_type": "markdown",
   "id": "e1f44275-d206-474c-aa08-2649776547a8",
   "metadata": {
    "jp-MarkdownHeadingCollapsed": true
   },
   "source": [
    "<h3>Using the describe </h3>"
   ]
  },
  {
   "cell_type": "code",
   "execution_count": 4,
   "id": "093291df-663c-4eaa-bb59-d72fa2d58316",
   "metadata": {},
   "outputs": [
    {
     "data": {
      "text/html": [
       "<div>\n",
       "<style scoped>\n",
       "    .dataframe tbody tr th:only-of-type {\n",
       "        vertical-align: middle;\n",
       "    }\n",
       "\n",
       "    .dataframe tbody tr th {\n",
       "        vertical-align: top;\n",
       "    }\n",
       "\n",
       "    .dataframe thead th {\n",
       "        text-align: right;\n",
       "    }\n",
       "</style>\n",
       "<table border=\"1\" class=\"dataframe\">\n",
       "  <thead>\n",
       "    <tr style=\"text-align: right;\">\n",
       "      <th></th>\n",
       "      <th>Latitude</th>\n",
       "      <th>Longitude</th>\n",
       "      <th>Number_of_Casualties</th>\n",
       "      <th>Number_of_Vehicles</th>\n",
       "    </tr>\n",
       "  </thead>\n",
       "  <tbody>\n",
       "    <tr>\n",
       "      <th>count</th>\n",
       "      <td>660654.000000</td>\n",
       "      <td>660653.000000</td>\n",
       "      <td>660679.000000</td>\n",
       "      <td>660679.000000</td>\n",
       "    </tr>\n",
       "    <tr>\n",
       "      <th>mean</th>\n",
       "      <td>52.553866</td>\n",
       "      <td>-1.431210</td>\n",
       "      <td>1.357040</td>\n",
       "      <td>1.831255</td>\n",
       "    </tr>\n",
       "    <tr>\n",
       "      <th>std</th>\n",
       "      <td>1.406922</td>\n",
       "      <td>1.383330</td>\n",
       "      <td>0.824847</td>\n",
       "      <td>0.715269</td>\n",
       "    </tr>\n",
       "    <tr>\n",
       "      <th>min</th>\n",
       "      <td>49.914430</td>\n",
       "      <td>-7.516225</td>\n",
       "      <td>1.000000</td>\n",
       "      <td>1.000000</td>\n",
       "    </tr>\n",
       "    <tr>\n",
       "      <th>25%</th>\n",
       "      <td>51.490690</td>\n",
       "      <td>-2.332291</td>\n",
       "      <td>1.000000</td>\n",
       "      <td>1.000000</td>\n",
       "    </tr>\n",
       "    <tr>\n",
       "      <th>50%</th>\n",
       "      <td>52.315641</td>\n",
       "      <td>-1.411667</td>\n",
       "      <td>1.000000</td>\n",
       "      <td>2.000000</td>\n",
       "    </tr>\n",
       "    <tr>\n",
       "      <th>75%</th>\n",
       "      <td>53.453452</td>\n",
       "      <td>-0.232869</td>\n",
       "      <td>1.000000</td>\n",
       "      <td>2.000000</td>\n",
       "    </tr>\n",
       "    <tr>\n",
       "      <th>max</th>\n",
       "      <td>60.757544</td>\n",
       "      <td>1.762010</td>\n",
       "      <td>68.000000</td>\n",
       "      <td>32.000000</td>\n",
       "    </tr>\n",
       "  </tbody>\n",
       "</table>\n",
       "</div>"
      ],
      "text/plain": [
       "            Latitude      Longitude  Number_of_Casualties  Number_of_Vehicles\n",
       "count  660654.000000  660653.000000         660679.000000       660679.000000\n",
       "mean       52.553866      -1.431210              1.357040            1.831255\n",
       "std         1.406922       1.383330              0.824847            0.715269\n",
       "min        49.914430      -7.516225              1.000000            1.000000\n",
       "25%        51.490690      -2.332291              1.000000            1.000000\n",
       "50%        52.315641      -1.411667              1.000000            2.000000\n",
       "75%        53.453452      -0.232869              1.000000            2.000000\n",
       "max        60.757544       1.762010             68.000000           32.000000"
      ]
     },
     "execution_count": 4,
     "metadata": {},
     "output_type": "execute_result"
    }
   ],
   "source": [
    "accident.describe()"
   ]
  },
  {
   "cell_type": "markdown",
   "id": "199afc50-36d1-4e33-9c96-2706b71b9e07",
   "metadata": {
    "jp-MarkdownHeadingCollapsed": true
   },
   "source": [
    "<h3>Cleaning the Null Values</h3>"
   ]
  },
  {
   "cell_type": "code",
   "execution_count": 5,
   "id": "73df1d3f-0669-43d0-bbb0-40ce364a6562",
   "metadata": {},
   "outputs": [
    {
     "data": {
      "text/plain": [
       "Index                          0\n",
       "Accident_Severity              0\n",
       "Accident Date                  0\n",
       "Latitude                      25\n",
       "Light_Conditions               0\n",
       "District Area                  0\n",
       "Longitude                     26\n",
       "Number_of_Casualties           0\n",
       "Number_of_Vehicles             0\n",
       "Road_Surface_Conditions      726\n",
       "Road_Type                   4520\n",
       "Urban_or_Rural_Area           15\n",
       "Weather_Conditions         14128\n",
       "Vehicle_Type                   0\n",
       "dtype: int64"
      ]
     },
     "execution_count": 5,
     "metadata": {},
     "output_type": "execute_result"
    }
   ],
   "source": [
    "accident.isnull().sum()"
   ]
  },
  {
   "cell_type": "code",
   "execution_count": 6,
   "id": "5d54b769-7340-4fdc-af70-107e739bb26c",
   "metadata": {},
   "outputs": [
    {
     "data": {
      "text/plain": [
       "np.float64(52.553865761110956)"
      ]
     },
     "execution_count": 6,
     "metadata": {},
     "output_type": "execute_result"
    }
   ],
   "source": [
    "accident['Latitude'].mean()"
   ]
  },
  {
   "cell_type": "code",
   "execution_count": 7,
   "id": "1b5b6770-6ed6-4561-affd-26d4d5ab6cf9",
   "metadata": {},
   "outputs": [
    {
     "data": {
      "text/plain": [
       "np.float64(-1.431210368502073)"
      ]
     },
     "execution_count": 7,
     "metadata": {},
     "output_type": "execute_result"
    }
   ],
   "source": [
    "accident['Longitude'].mean()"
   ]
  },
  {
   "cell_type": "code",
   "execution_count": 8,
   "id": "1815feec-5df3-4507-a9fd-8546826778aa",
   "metadata": {},
   "outputs": [
    {
     "data": {
      "text/plain": [
       "0    Urban\n",
       "Name: Urban_or_Rural_Area, dtype: object"
      ]
     },
     "execution_count": 8,
     "metadata": {},
     "output_type": "execute_result"
    }
   ],
   "source": [
    "accident['Urban_or_Rural_Area'].mode()"
   ]
  },
  {
   "cell_type": "code",
   "execution_count": 9,
   "id": "81a36adf-016b-4a9a-9237-4d3a9df98b35",
   "metadata": {},
   "outputs": [],
   "source": [
    "accident['Latitude']=accident['Latitude'].fillna(accident['Latitude']).mean()\n",
    "accident['Longitude']=accident['Longitude'].fillna(accident['Longitude']).mean()\n",
    "accident['Urban_or_Rural_Area']=accident['Urban_or_Rural_Area'].fillna(accident['Urban_or_Rural_Area']).mode()[0]"
   ]
  },
  {
   "cell_type": "code",
   "execution_count": 10,
   "id": "2df7c85e-9677-4bd5-bd17-6831fd38d7c5",
   "metadata": {},
   "outputs": [
    {
     "data": {
      "text/plain": [
       "Index                          0\n",
       "Accident_Severity              0\n",
       "Accident Date                  0\n",
       "Latitude                       0\n",
       "Light_Conditions               0\n",
       "District Area                  0\n",
       "Longitude                      0\n",
       "Number_of_Casualties           0\n",
       "Number_of_Vehicles             0\n",
       "Road_Surface_Conditions      726\n",
       "Road_Type                   4520\n",
       "Urban_or_Rural_Area            0\n",
       "Weather_Conditions         14128\n",
       "Vehicle_Type                   0\n",
       "dtype: int64"
      ]
     },
     "execution_count": 10,
     "metadata": {},
     "output_type": "execute_result"
    }
   ],
   "source": [
    "accident.isnull().sum()"
   ]
  },
  {
   "cell_type": "markdown",
   "id": "f0120312-60c4-43e1-ba1f-06c89dc04021",
   "metadata": {
    "jp-MarkdownHeadingCollapsed": true
   },
   "source": [
    "<h3>Making the big null values unaccounted</h3>"
   ]
  },
  {
   "cell_type": "code",
   "execution_count": 11,
   "id": "f04cb755-75b4-46f5-a8d2-f0a513ba40bb",
   "metadata": {},
   "outputs": [],
   "source": [
    "accident[\"Road_Surface_Conditions\"] = accident[\"Road_Surface_Conditions\"].fillna(\"Unaccounted\")\n",
    "accident[\"Road_Type\"] = accident[\"Road_Type\"].fillna(\"Unaccounted\")\n",
    "accident[\"Weather_Conditions\"] = accident[\"Weather_Conditions\"].fillna(\"Unaccounted\")"
   ]
  },
  {
   "cell_type": "code",
   "execution_count": 12,
   "id": "dbccec01-782a-41f3-8847-ca732b1c04dd",
   "metadata": {},
   "outputs": [
    {
     "data": {
      "text/plain": [
       "Index                      0\n",
       "Accident_Severity          0\n",
       "Accident Date              0\n",
       "Latitude                   0\n",
       "Light_Conditions           0\n",
       "District Area              0\n",
       "Longitude                  0\n",
       "Number_of_Casualties       0\n",
       "Number_of_Vehicles         0\n",
       "Road_Surface_Conditions    0\n",
       "Road_Type                  0\n",
       "Urban_or_Rural_Area        0\n",
       "Weather_Conditions         0\n",
       "Vehicle_Type               0\n",
       "dtype: int64"
      ]
     },
     "execution_count": 12,
     "metadata": {},
     "output_type": "execute_result"
    }
   ],
   "source": [
    "accident.isnull().sum()"
   ]
  },
  {
   "cell_type": "markdown",
   "id": "b748c7c0-3be2-419e-9fd7-68bab4c558f3",
   "metadata": {
    "jp-MarkdownHeadingCollapsed": true
   },
   "source": [
    "<h3>Changing the DataType</h3>"
   ]
  },
  {
   "cell_type": "code",
   "execution_count": 13,
   "id": "6a50bc7e-8c6e-46bf-9965-a12a034aa3eb",
   "metadata": {},
   "outputs": [
    {
     "name": "stdout",
     "output_type": "stream",
     "text": [
      "<class 'pandas.core.frame.DataFrame'>\n",
      "RangeIndex: 660679 entries, 0 to 660678\n",
      "Data columns (total 14 columns):\n",
      " #   Column                   Non-Null Count   Dtype  \n",
      "---  ------                   --------------   -----  \n",
      " 0   Index                    660679 non-null  object \n",
      " 1   Accident_Severity        660679 non-null  object \n",
      " 2   Accident Date            660679 non-null  object \n",
      " 3   Latitude                 660679 non-null  float64\n",
      " 4   Light_Conditions         660679 non-null  object \n",
      " 5   District Area            660679 non-null  object \n",
      " 6   Longitude                660679 non-null  float64\n",
      " 7   Number_of_Casualties     660679 non-null  int64  \n",
      " 8   Number_of_Vehicles       660679 non-null  int64  \n",
      " 9   Road_Surface_Conditions  660679 non-null  object \n",
      " 10  Road_Type                660679 non-null  object \n",
      " 11  Urban_or_Rural_Area      660679 non-null  object \n",
      " 12  Weather_Conditions       660679 non-null  object \n",
      " 13  Vehicle_Type             660679 non-null  object \n",
      "dtypes: float64(2), int64(2), object(10)\n",
      "memory usage: 70.6+ MB\n"
     ]
    }
   ],
   "source": [
    "accident.info()"
   ]
  },
  {
   "cell_type": "code",
   "execution_count": 14,
   "id": "3d8cdd0e-a503-4b19-86d5-e749fa29c3e9",
   "metadata": {},
   "outputs": [],
   "source": [
    "accident['Index']=accident['Index'].astype('category')\n",
    "accident['Accident_Severity']=accident['Accident_Severity'].astype('category')\n",
    "accident['Accident Date']=accident['Accident Date'].astype('datetime64[ns]')\n",
    "accident['Light_Conditions']=accident['Light_Conditions'].astype('category')\n",
    "accident['District Area']=accident['District Area'].astype('category')\n",
    "accident['Number_of_Casualties']=accident['Number_of_Casualties'].astype('category')\n",
    "accident['Number_of_Vehicles']=accident['Number_of_Vehicles'].astype('category')\n",
    "accident['Urban_or_Rural_Area']=accident['Urban_or_Rural_Area'].astype('category')\n",
    "accident['Vehicle_Type']=accident['Vehicle_Type'].astype('category')\n",
    "accident[\"Road_Surface_Conditions\"] = accident[\"Road_Surface_Conditions\"].astype(\"category\")\n",
    "accident[\"Road_Type\"] = accident[\"Road_Type\"].astype(\"category\")\n",
    "accident[\"Weather_Conditions\"] = accident[\"Weather_Conditions\"].astype(\"category\")"
   ]
  },
  {
   "cell_type": "markdown",
   "id": "3d5c989d-26d5-4f45-b687-77d3282aef35",
   "metadata": {},
   "source": [
    "<h3>Adding another column of the Date.</h3>"
   ]
  },
  {
   "cell_type": "code",
   "execution_count": 15,
   "id": "80e32dd0-e230-4b21-adcc-ac98b822f30a",
   "metadata": {},
   "outputs": [],
   "source": [
    "accident['Accident_Year']=accident['Accident Date'].dt.year\n",
    "accident['Accident_Month']=accident['Accident Date'].dt.month_name\n",
    "accident['Accident_Day']=accident['Accident Date'].dt.day\n",
    "accident['Day_of_Week']=accident['Accident Date'].dt.dayofweek"
   ]
  },
  {
   "cell_type": "code",
   "execution_count": 16,
   "id": "40a3bb07-aa7c-47f5-ab54-39a3742f89cb",
   "metadata": {
    "scrolled": true
   },
   "outputs": [
    {
     "name": "stdout",
     "output_type": "stream",
     "text": [
      "<class 'pandas.core.frame.DataFrame'>\n",
      "RangeIndex: 660679 entries, 0 to 660678\n",
      "Data columns (total 18 columns):\n",
      " #   Column                   Non-Null Count   Dtype         \n",
      "---  ------                   --------------   -----         \n",
      " 0   Index                    660679 non-null  category      \n",
      " 1   Accident_Severity        660679 non-null  category      \n",
      " 2   Accident Date            660679 non-null  datetime64[ns]\n",
      " 3   Latitude                 660679 non-null  float64       \n",
      " 4   Light_Conditions         660679 non-null  category      \n",
      " 5   District Area            660679 non-null  category      \n",
      " 6   Longitude                660679 non-null  float64       \n",
      " 7   Number_of_Casualties     660679 non-null  category      \n",
      " 8   Number_of_Vehicles       660679 non-null  category      \n",
      " 9   Road_Surface_Conditions  660679 non-null  category      \n",
      " 10  Road_Type                660679 non-null  category      \n",
      " 11  Urban_or_Rural_Area      660679 non-null  category      \n",
      " 12  Weather_Conditions       660679 non-null  category      \n",
      " 13  Vehicle_Type             660679 non-null  category      \n",
      " 14  Accident_Year            660679 non-null  int32         \n",
      " 15  Accident_Month           660679 non-null  object        \n",
      " 16  Accident_Day             660679 non-null  int32         \n",
      " 17  Day_of_Week              660679 non-null  int32         \n",
      "dtypes: category(11), datetime64[ns](1), float64(2), int32(3), object(1)\n",
      "memory usage: 56.5+ MB\n"
     ]
    }
   ],
   "source": [
    "accident.info()"
   ]
  },
  {
   "cell_type": "markdown",
   "id": "a7040558-298f-4bf6-9485-ea396146643f",
   "metadata": {},
   "source": [
    "<h1>DATA ANALYSIS</h1>"
   ]
  },
  {
   "cell_type": "markdown",
   "id": "2ace49f6-8abf-4c9c-b8d8-96a0c555aa97",
   "metadata": {},
   "source": [
    "<h3>Univariate</h3>"
   ]
  },
  {
   "cell_type": "markdown",
   "id": "870c88e9-e18a-4286-a570-cbb3289e2ce8",
   "metadata": {
    "jp-MarkdownHeadingCollapsed": true
   },
   "source": [
    "<h2>1. What are the most common vehicles involved in accidents? And what is the total number of accident of the vehicle.</h2>"
   ]
  },
  {
   "cell_type": "code",
   "execution_count": 17,
   "id": "5be5731d-92e6-49ba-925d-147349cc10d6",
   "metadata": {},
   "outputs": [
    {
     "data": {
      "text/plain": [
       "Vehicle_Type\n",
       "Car                                      497992\n",
       "Van / Goods 3.5 tonnes mgw or under       34160\n",
       "Bus or coach (17 or more pass seats)      25878\n",
       "Motorcycle over 500cc                     25657\n",
       "Goods 7.5 tonnes mgw and over             17307\n",
       "Motorcycle 125cc and under                15269\n",
       "Taxi/Private hire car                     13294\n",
       "Motorcycle over 125cc and up to 500cc      7656\n",
       "Motorcycle 50cc and under                  7603\n",
       "Goods over 3.5t. and under 7.5t            6096\n",
       "Other vehicle                              5637\n",
       "Minibus (8 - 16 passenger seats)           1976\n",
       "Agricultural vehicle                       1947\n",
       "Pedal cycle                                 197\n",
       "Data missing or out of range                  6\n",
       "Ridden horse                                  4\n",
       "Name: count, dtype: int64"
      ]
     },
     "execution_count": 17,
     "metadata": {},
     "output_type": "execute_result"
    }
   ],
   "source": [
    "accident['Vehicle_Type'].value_counts()"
   ]
  },
  {
   "cell_type": "markdown",
   "id": "f1615a2f-669b-4cbb-96eb-e24d3de855c9",
   "metadata": {},
   "source": [
    "<h3>Insight#1: Most road accidents involve cars. With the total 497,992 cases, cars are the most common vehicle type in accidents compared to all others. </h3>\n",
    "<h3>Insight#2: While car are the most common vehicle that got in accident with 75% of the total accidents. Heavy vehicles like vans, buses, and goods trucks are involved in around 12–13% of accidents. While not as common as cars, they still represent a significant portion of total accidents.</h3>"
   ]
  },
  {
   "cell_type": "markdown",
   "id": "a08fe053-5fe8-4f1f-afb6-2cfe6b301232",
   "metadata": {
    "jp-MarkdownHeadingCollapsed": true
   },
   "source": [
    "<h2>2. How many accidents fall under each severity level? Compare each of them to each other. </h2>"
   ]
  },
  {
   "cell_type": "code",
   "execution_count": 18,
   "id": "a0035b2a-fe6d-435b-ab45-6ac435e73b93",
   "metadata": {},
   "outputs": [
    {
     "data": {
      "text/plain": [
       "Accident_Severity\n",
       "Slight     563801\n",
       "Serious     88217\n",
       "Fatal        8661\n",
       "Name: count, dtype: int64"
      ]
     },
     "execution_count": 18,
     "metadata": {},
     "output_type": "execute_result"
    }
   ],
   "source": [
    "accident ['Accident_Severity'].value_counts()"
   ]
  },
  {
   "cell_type": "markdown",
   "id": "67716d18-2666-4afc-ba53-8fb9c07f0dc0",
   "metadata": {},
   "source": [
    "<h3>Insight#3: Most accidents are slight for over 85%, but with over 13% being serious, this shows that while many crashes are minor, a large number still cause injuries that need medical attention. </h3>\n",
    "<h3>Insight#4: Only about 1% of accidents are fatal, but because the total number of accidents is large which is over 660,679. Even this small percentage represents thousands of life lost showing why road safety measures is important.</h3>"
   ]
  },
  {
   "cell_type": "markdown",
   "id": "826a2284-ec33-437b-8d1b-43aa234d4ef1",
   "metadata": {
    "jp-MarkdownHeadingCollapsed": true
   },
   "source": [
    "<h2>3. How many accidents happened under each light condition? Are accidents more common during the day or at night? </h2>"
   ]
  },
  {
   "cell_type": "code",
   "execution_count": 19,
   "id": "4ee64d22-1cca-4d93-af5d-6ff783d4ed8b",
   "metadata": {},
   "outputs": [
    {
     "data": {
      "text/plain": [
       "Light_Conditions\n",
       "Daylight                       484880\n",
       "Darkness - lights lit          129335\n",
       "Darkness - no lighting          37437\n",
       "Darkness - lighting unknown      6484\n",
       "Darkness - lights unlit          2543\n",
       "Name: count, dtype: int64"
      ]
     },
     "execution_count": 19,
     "metadata": {},
     "output_type": "execute_result"
    }
   ],
   "source": [
    "accident['Light_Conditions'].value_counts()"
   ]
  },
  {
   "cell_type": "markdown",
   "id": "f2e78996-ae63-4070-bc96-d262086623c6",
   "metadata": {},
   "source": [
    "<h3>Insight#5: Most accidents happen during daylight for about 73%, which shows that even with daylight accident can happen. Heavy traffic and busier roads and etc. can lead to more crashes even in daytime. </h3>\n",
    "<h3>Insight#6: Accidents in darkness still make up about 27% of the total, proving that poor visibility and lighting conditions remain a big risk for road safety. </h3>\n",
    "<h3>Insight#7: Though fewer accidents happen at night, they may be more dangerous, since limited visibility and unlit roads can increase the chance of severe outcomes. </h3>"
   ]
  },
  {
   "cell_type": "markdown",
   "id": "8938fec6-2e82-4ed5-b38f-707a00786972",
   "metadata": {
    "jp-MarkdownHeadingCollapsed": true
   },
   "source": [
    "<h2>4. Which district area has the highest number of accidents? </h2>"
   ]
  },
  {
   "cell_type": "code",
   "execution_count": 20,
   "id": "5bcb4181-d4ff-4b5d-92bc-4677d7b5e244",
   "metadata": {},
   "outputs": [
    {
     "data": {
      "text/plain": [
       "District Area\n",
       "Birmingham            13491\n",
       "Leeds                  8898\n",
       "Manchester             6720\n",
       "Bradford               6212\n",
       "Sheffield              5710\n",
       "                      ...  \n",
       "Berwick-upon-Tweed      153\n",
       "Teesdale                142\n",
       "Shetland Islands        133\n",
       "Orkney Islands          117\n",
       "Clackmannanshire         91\n",
       "Name: count, Length: 422, dtype: int64"
      ]
     },
     "execution_count": 20,
     "metadata": {},
     "output_type": "execute_result"
    }
   ],
   "source": [
    "accident['District Area'].value_counts()"
   ]
  },
  {
   "cell_type": "markdown",
   "id": "4ee103e4-6695-4001-8388-4be5ae0e8490",
   "metadata": {},
   "source": [
    "<h3>Insight#8: Birmingham has 32.9% of accidents among the top 5 cities, far ahead of Leeds which is 21.7% and Manchester which is about 16.4%. This shows that larger urban centers face greater accident risks. </h3>\n",
    "<h3>Insight#9: Smaller or rural areas such as Clackmannanshire which has 91 accident cases and Orkney Islands that has 117 accidents report, very few accidents compared to big cities. This shows a strong urban and rural gap in accident frequency.</h3>"
   ]
  },
  {
   "cell_type": "markdown",
   "id": "c0cc652f-2459-40b6-8996-23fb67eeb164",
   "metadata": {
    "jp-MarkdownHeadingCollapsed": true
   },
   "source": [
    "<h2>5. How do the number of accidents vary across different years? Has the total number of accidents increased or decreased over the years? </h2>"
   ]
  },
  {
   "cell_type": "code",
   "execution_count": 21,
   "id": "f13598fc-e9d6-475b-bd7c-07ed44c1a5b5",
   "metadata": {},
   "outputs": [
    {
     "data": {
      "text/plain": [
       "Accident_Year\n",
       "2019    182115\n",
       "2020    170591\n",
       "2021    163554\n",
       "2022    144419\n",
       "Name: count, dtype: int64"
      ]
     },
     "execution_count": 21,
     "metadata": {},
     "output_type": "execute_result"
    }
   ],
   "source": [
    "accident['Accident_Year'].value_counts()"
   ]
  },
  {
   "cell_type": "markdown",
   "id": "ccc49e5a-1ce1-499a-bf9c-8bf893d81d4b",
   "metadata": {},
   "source": [
    "<h3>Insight#10: In 2019, accidents reached 182,115 which is 27.6%, the highest across the dataset. By 2022, the number dropped to 144,419, which is a 21% decrease overall </h3>\n",
    "<h3>Insight#11: From 2019 to 2020, accidents fell from 182,115 to 170,591, marking a 6% drop. </h3>\n",
    "<h3>Insight#12: While from 2020 to 2021, accidents drop more by 4%. </h3>\n",
    "<h3>Insight#13: So over the years for the span of 2021 to 2022 is the drop of accident, where accidents went down by 12%. </h3>"
   ]
  },
  {
   "cell_type": "markdown",
   "id": "177e4baa-2473-472e-9447-108b2384d9e5",
   "metadata": {},
   "source": [
    "<h3>Bivariate</h3>"
   ]
  },
  {
   "cell_type": "markdown",
   "id": "17f4c6cc-534b-40dc-bcc7-55830dd6a4c7",
   "metadata": {
    "jp-MarkdownHeadingCollapsed": true
   },
   "source": [
    "<h2>6. How has accident severity changed from 2019 to 2022?</h2>"
   ]
  },
  {
   "cell_type": "code",
   "execution_count": 25,
   "id": "e661e779-be7d-459c-a201-e7754b6bb9c9",
   "metadata": {},
   "outputs": [
    {
     "data": {
      "text/html": [
       "<div>\n",
       "<style scoped>\n",
       "    .dataframe tbody tr th:only-of-type {\n",
       "        vertical-align: middle;\n",
       "    }\n",
       "\n",
       "    .dataframe tbody tr th {\n",
       "        vertical-align: top;\n",
       "    }\n",
       "\n",
       "    .dataframe thead th {\n",
       "        text-align: right;\n",
       "    }\n",
       "</style>\n",
       "<table border=\"1\" class=\"dataframe\">\n",
       "  <thead>\n",
       "    <tr style=\"text-align: right;\">\n",
       "      <th>Accident_Year</th>\n",
       "      <th>2019</th>\n",
       "      <th>2020</th>\n",
       "      <th>2021</th>\n",
       "      <th>2022</th>\n",
       "    </tr>\n",
       "    <tr>\n",
       "      <th>Accident_Severity</th>\n",
       "      <th></th>\n",
       "      <th></th>\n",
       "      <th></th>\n",
       "      <th></th>\n",
       "    </tr>\n",
       "  </thead>\n",
       "  <tbody>\n",
       "    <tr>\n",
       "      <th>Fatal</th>\n",
       "      <td>2714</td>\n",
       "      <td>2341</td>\n",
       "      <td>2057</td>\n",
       "      <td>1549</td>\n",
       "    </tr>\n",
       "    <tr>\n",
       "      <th>Serious</th>\n",
       "      <td>24322</td>\n",
       "      <td>23121</td>\n",
       "      <td>21997</td>\n",
       "      <td>18777</td>\n",
       "    </tr>\n",
       "    <tr>\n",
       "      <th>Slight</th>\n",
       "      <td>155079</td>\n",
       "      <td>145129</td>\n",
       "      <td>139500</td>\n",
       "      <td>124093</td>\n",
       "    </tr>\n",
       "  </tbody>\n",
       "</table>\n",
       "</div>"
      ],
      "text/plain": [
       "Accident_Year        2019    2020    2021    2022\n",
       "Accident_Severity                                \n",
       "Fatal                2714    2341    2057    1549\n",
       "Serious             24322   23121   21997   18777\n",
       "Slight             155079  145129  139500  124093"
      ]
     },
     "execution_count": 25,
     "metadata": {},
     "output_type": "execute_result"
    }
   ],
   "source": [
    "district_year =accident.groupby([\"Accident_Severity\", \"Accident_Year\"]).size().unstack()\n",
    "district_year"
   ]
  },
  {
   "cell_type": "markdown",
   "id": "a9eb065e-c238-48df-abee-15a6f70a15b5",
   "metadata": {},
   "source": [
    "<h3>Insight#14: Fatal accidents dropped from 2,714 in 2019 to 1,549 in 2022 a 43% decrease of accident, which suggests road safety improves</h3>\n",
    "<h3>Insights#15: Serious accidents also decreased, from 24,322 in 2019 to 18,777 in 2022 a 23% decrease. While still high, the decline shows a positive safety improvements. </h3>\n",
    "<h3>Insights#16: Slight accidents remain the most common by far, though they also declined significantly from 155,079 in 2019 to 124,093 in 2022 a 20% decrease. </h3>\n",
    "<h3>Insights#17: Across all severity levels, accidents have been steadily decreasing every year from 2019 to 2022, showing a clear downward in total accidents. </h3>"
   ]
  },
  {
   "cell_type": "markdown",
   "id": "df0cb939-d1e8-46d9-95c1-e8b6ac5fb966",
   "metadata": {
    "jp-MarkdownHeadingCollapsed": true
   },
   "source": [
    "<h2>7. Do accidents that happen in daylight tend to be less severe compared to those in darkness?</h2>"
   ]
  },
  {
   "cell_type": "code",
   "execution_count": 24,
   "id": "cfb0959f-fe4e-4889-8281-38104ccb6345",
   "metadata": {},
   "outputs": [
    {
     "data": {
      "text/html": [
       "<div>\n",
       "<style scoped>\n",
       "    .dataframe tbody tr th:only-of-type {\n",
       "        vertical-align: middle;\n",
       "    }\n",
       "\n",
       "    .dataframe tbody tr th {\n",
       "        vertical-align: top;\n",
       "    }\n",
       "\n",
       "    .dataframe thead th {\n",
       "        text-align: right;\n",
       "    }\n",
       "</style>\n",
       "<table border=\"1\" class=\"dataframe\">\n",
       "  <thead>\n",
       "    <tr style=\"text-align: right;\">\n",
       "      <th>Accident_Severity</th>\n",
       "      <th>Fatal</th>\n",
       "      <th>Serious</th>\n",
       "      <th>Slight</th>\n",
       "    </tr>\n",
       "    <tr>\n",
       "      <th>Light_Conditions</th>\n",
       "      <th></th>\n",
       "      <th></th>\n",
       "      <th></th>\n",
       "    </tr>\n",
       "  </thead>\n",
       "  <tbody>\n",
       "    <tr>\n",
       "      <th>Darkness - lighting unknown</th>\n",
       "      <td>68</td>\n",
       "      <td>794</td>\n",
       "      <td>5622</td>\n",
       "    </tr>\n",
       "    <tr>\n",
       "      <th>Darkness - lights lit</th>\n",
       "      <td>1860</td>\n",
       "      <td>19130</td>\n",
       "      <td>108345</td>\n",
       "    </tr>\n",
       "    <tr>\n",
       "      <th>Darkness - lights unlit</th>\n",
       "      <td>45</td>\n",
       "      <td>360</td>\n",
       "      <td>2138</td>\n",
       "    </tr>\n",
       "    <tr>\n",
       "      <th>Darkness - no lighting</th>\n",
       "      <td>1612</td>\n",
       "      <td>7174</td>\n",
       "      <td>28651</td>\n",
       "    </tr>\n",
       "    <tr>\n",
       "      <th>Daylight</th>\n",
       "      <td>5076</td>\n",
       "      <td>60759</td>\n",
       "      <td>419045</td>\n",
       "    </tr>\n",
       "  </tbody>\n",
       "</table>\n",
       "</div>"
      ],
      "text/plain": [
       "Accident_Severity            Fatal  Serious  Slight\n",
       "Light_Conditions                                   \n",
       "Darkness - lighting unknown     68      794    5622\n",
       "Darkness - lights lit         1860    19130  108345\n",
       "Darkness - lights unlit         45      360    2138\n",
       "Darkness - no lighting        1612     7174   28651\n",
       "Daylight                      5076    60759  419045"
      ]
     },
     "execution_count": 24,
     "metadata": {},
     "output_type": "execute_result"
    }
   ],
   "source": [
    "light_severity = accident.groupby([\"Light_Conditions\", \"Accident_Severity\"]).size().unstack(fill_value=0)\n",
    "light_severity"
   ]
  },
  {
   "cell_type": "markdown",
   "id": "419df3fe-8f06-4974-80dc-64a398b85668",
   "metadata": {},
   "source": [
    "<h3>Insights#18: The majority of accidents occur during daylight conditions, which shows that high traffic volume during the day contributes more to accidents than poor visibility at night. </h3>\n",
    "<h3>Insights#19: While total accidents are lower at night, the proportion of fatal accidents tends to be higher in darkness, especially when street has no light or has poor light. </h3>\n",
    "<h3>Insights#20: Areas with street lights record more accidents overall, but the severity is lower compared to accidents in unlit or poorly lit conditions, suggesting lighting plays a key role in reducing accident severity. </h3>"
   ]
  },
  {
   "cell_type": "markdown",
   "id": "e92096d1-8b7d-4196-bef7-bbfa356ef55c",
   "metadata": {},
   "source": [
    "<h2>8. On which day of the week are accidents most likely to result in severe outcomes? </h2>"
   ]
  },
  {
   "cell_type": "code",
   "execution_count": 33,
   "id": "9e6dcda9-5bef-476f-b0e3-e1ee7c8b81f5",
   "metadata": {},
   "outputs": [
    {
     "data": {
      "text/html": [
       "<div>\n",
       "<style scoped>\n",
       "    .dataframe tbody tr th:only-of-type {\n",
       "        vertical-align: middle;\n",
       "    }\n",
       "\n",
       "    .dataframe tbody tr th {\n",
       "        vertical-align: top;\n",
       "    }\n",
       "\n",
       "    .dataframe thead th {\n",
       "        text-align: right;\n",
       "    }\n",
       "</style>\n",
       "<table border=\"1\" class=\"dataframe\">\n",
       "  <thead>\n",
       "    <tr style=\"text-align: right;\">\n",
       "      <th>Accident_Severity</th>\n",
       "      <th>Fatal</th>\n",
       "      <th>Serious</th>\n",
       "      <th>Slight</th>\n",
       "    </tr>\n",
       "    <tr>\n",
       "      <th>Day_of_Week</th>\n",
       "      <th></th>\n",
       "      <th></th>\n",
       "      <th></th>\n",
       "    </tr>\n",
       "  </thead>\n",
       "  <tbody>\n",
       "    <tr>\n",
       "      <th>0</th>\n",
       "      <td>1338</td>\n",
       "      <td>12023</td>\n",
       "      <td>66470</td>\n",
       "    </tr>\n",
       "    <tr>\n",
       "      <th>1</th>\n",
       "      <td>1171</td>\n",
       "      <td>12271</td>\n",
       "      <td>82095</td>\n",
       "    </tr>\n",
       "    <tr>\n",
       "      <th>2</th>\n",
       "      <td>1155</td>\n",
       "      <td>12430</td>\n",
       "      <td>83484</td>\n",
       "    </tr>\n",
       "    <tr>\n",
       "      <th>3</th>\n",
       "      <td>1166</td>\n",
       "      <td>12535</td>\n",
       "      <td>84178</td>\n",
       "    </tr>\n",
       "    <tr>\n",
       "      <th>4</th>\n",
       "      <td>1138</td>\n",
       "      <td>12598</td>\n",
       "      <td>82853</td>\n",
       "    </tr>\n",
       "    <tr>\n",
       "      <th>5</th>\n",
       "      <td>1265</td>\n",
       "      <td>13364</td>\n",
       "      <td>87136</td>\n",
       "    </tr>\n",
       "    <tr>\n",
       "      <th>6</th>\n",
       "      <td>1428</td>\n",
       "      <td>12996</td>\n",
       "      <td>77585</td>\n",
       "    </tr>\n",
       "  </tbody>\n",
       "</table>\n",
       "</div>"
      ],
      "text/plain": [
       "Accident_Severity  Fatal  Serious  Slight\n",
       "Day_of_Week                              \n",
       "0                   1338    12023   66470\n",
       "1                   1171    12271   82095\n",
       "2                   1155    12430   83484\n",
       "3                   1166    12535   84178\n",
       "4                   1138    12598   82853\n",
       "5                   1265    13364   87136\n",
       "6                   1428    12996   77585"
      ]
     },
     "execution_count": 33,
     "metadata": {},
     "output_type": "execute_result"
    }
   ],
   "source": [
    "accident.groupby([\"Day_of_Week\", \"Accident_Severity\"]).size().unstack()"
   ]
  },
  {
   "cell_type": "markdown",
   "id": "47899f66-092c-4bd9-8fa2-890f7cc71814",
   "metadata": {},
   "source": [
    "<h3>Insights#21: Monday has the highest fatal accident share with 1.86%, so it is the riskiest day for deadly crashes. </h3>\n",
    "<h3>Insights#22: Sunday has the highest share of serious accidents with 14.19%, meaning severe accidents are more likely at the end of the week.</h3>\n",
    "<h3>Insights#23: Slight accidents dominate every day 81–86%, but weekend days which is Saturday and Sunday have lower slight accident percentages, indicating accidents are more likely to be severe on weekends.</h3>"
   ]
  },
  {
   "cell_type": "markdown",
   "id": "bed1afc9-753f-46dc-af32-7a6f4fa1f66e",
   "metadata": {},
   "source": [
    "<h2>9. Do wet or icy road surfaces contribute to higher accident severity compared to dry conditions?</h2>"
   ]
  },
  {
   "cell_type": "code",
   "execution_count": 34,
   "id": "7968bdff-65d1-4ab1-8c38-b3a5553d36c9",
   "metadata": {},
   "outputs": [
    {
     "data": {
      "text/html": [
       "<div>\n",
       "<style scoped>\n",
       "    .dataframe tbody tr th:only-of-type {\n",
       "        vertical-align: middle;\n",
       "    }\n",
       "\n",
       "    .dataframe tbody tr th {\n",
       "        vertical-align: top;\n",
       "    }\n",
       "\n",
       "    .dataframe thead th {\n",
       "        text-align: right;\n",
       "    }\n",
       "</style>\n",
       "<table border=\"1\" class=\"dataframe\">\n",
       "  <thead>\n",
       "    <tr style=\"text-align: right;\">\n",
       "      <th>Accident_Severity</th>\n",
       "      <th>Fatal</th>\n",
       "      <th>Serious</th>\n",
       "      <th>Slight</th>\n",
       "    </tr>\n",
       "    <tr>\n",
       "      <th>Road_Surface_Conditions</th>\n",
       "      <th></th>\n",
       "      <th></th>\n",
       "      <th></th>\n",
       "    </tr>\n",
       "  </thead>\n",
       "  <tbody>\n",
       "    <tr>\n",
       "      <th>Dry</th>\n",
       "      <td>5788</td>\n",
       "      <td>61638</td>\n",
       "      <td>380395</td>\n",
       "    </tr>\n",
       "    <tr>\n",
       "      <th>Flood over 3cm. deep</th>\n",
       "      <td>23</td>\n",
       "      <td>152</td>\n",
       "      <td>842</td>\n",
       "    </tr>\n",
       "    <tr>\n",
       "      <th>Frost or ice</th>\n",
       "      <td>193</td>\n",
       "      <td>2007</td>\n",
       "      <td>16317</td>\n",
       "    </tr>\n",
       "    <tr>\n",
       "      <th>Snow</th>\n",
       "      <td>35</td>\n",
       "      <td>565</td>\n",
       "      <td>5290</td>\n",
       "    </tr>\n",
       "    <tr>\n",
       "      <th>Unaccounted</th>\n",
       "      <td>2</td>\n",
       "      <td>70</td>\n",
       "      <td>654</td>\n",
       "    </tr>\n",
       "    <tr>\n",
       "      <th>Wet or damp</th>\n",
       "      <td>2620</td>\n",
       "      <td>23785</td>\n",
       "      <td>160303</td>\n",
       "    </tr>\n",
       "  </tbody>\n",
       "</table>\n",
       "</div>"
      ],
      "text/plain": [
       "Accident_Severity        Fatal  Serious  Slight\n",
       "Road_Surface_Conditions                        \n",
       "Dry                       5788    61638  380395\n",
       "Flood over 3cm. deep        23      152     842\n",
       "Frost or ice               193     2007   16317\n",
       "Snow                        35      565    5290\n",
       "Unaccounted                  2       70     654\n",
       "Wet or damp               2620    23785  160303"
      ]
     },
     "execution_count": 34,
     "metadata": {},
     "output_type": "execute_result"
    }
   ],
   "source": [
    "road_accidents = accident.groupby([\"Road_Surface_Conditions\", \"Accident_Severity\"]).size().unstack()\n",
    "road_accidents"
   ]
  },
  {
   "cell_type": "markdown",
   "id": "15da3a92-5f5f-436e-89b6-7cfa9eb1425d",
   "metadata": {},
   "source": [
    "<h3>Insights#24: Wet roads cause more fatal accidents than dry roads. There are 1.41% fatal accidents on wet/damp roads compared to 1.29% on dry roads, even though dry roads have far more total accidents. </h3>\n",
    "<h3>Insights#25: Icy and snowy roads mostly lead to slight injuries. Frost or ice had 88.12% slight accidents out of 18,517 total, and snow had 89.81% slight accidents out of 5,890 total, meaning most accidents on these surfaces are minor. </h3>\n",
    "<h3>Insights#26: Wet or icy road surfaces lead to higher accident severity compared to dry conditions. Wet/damp and flooded roads have a higher share of fatal and serious accidents relative to their total number of crashes. </h3>\n",
    "<h3>Insights#27: Flooded roads are the most dangerous condition. They have the highest fatal accident percentage 2.26%, meaning floods are the most severe road condition overall, even though they happen less often.</h3>"
   ]
  },
  {
   "cell_type": "code",
   "execution_count": null,
   "id": "1476a57a-ea79-4cfc-91b9-14dbf4e2389c",
   "metadata": {},
   "outputs": [],
   "source": []
  }
 ],
 "metadata": {
  "kernelspec": {
   "display_name": "Python 3 (ipykernel)",
   "language": "python",
   "name": "python3"
  },
  "language_info": {
   "codemirror_mode": {
    "name": "ipython",
    "version": 3
   },
   "file_extension": ".py",
   "mimetype": "text/x-python",
   "name": "python",
   "nbconvert_exporter": "python",
   "pygments_lexer": "ipython3",
   "version": "3.13.6"
  }
 },
 "nbformat": 4,
 "nbformat_minor": 5
}
